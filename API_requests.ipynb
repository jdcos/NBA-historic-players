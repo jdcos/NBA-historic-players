{
 "cells": [
  {
   "cell_type": "markdown",
   "id": "58549ab1-5230-4697-b1ca-bd3b93de1c4b",
   "metadata": {},
   "source": [
    "## **Library import** ##"
   ]
  },
  {
   "cell_type": "code",
   "execution_count": null,
   "id": "21ff030b-7dd1-4163-ba48-ac6d73eec531",
   "metadata": {},
   "outputs": [],
   "source": [
    "import requests\n",
    "import time"
   ]
  },
  {
   "cell_type": "code",
   "execution_count": null,
   "id": "2dab7fe8-a5ae-4fe2-906f-92a4fcd62de6",
   "metadata": {},
   "outputs": [],
   "source": [
    "from dotenv import load_dotenv\n",
    "import os"
   ]
  },
  {
   "cell_type": "markdown",
   "id": "069c0157-38ab-4e39-ad74-3bd3f4553caf",
   "metadata": {
    "scrolled": true
   },
   "source": [
    "## **Data Collection - API** 📊\n",
    "\n",
    "1. **Players** 🏀  \n",
    "   - endpoint: https://api.balldontlie.io/v1/players\n",
    "2. **Teams** 🏆  \n",
    "   - endpoint: https://api.balldontlie.io/v1/teams\n"
   ]
  },
  {
   "cell_type": "code",
   "execution_count": null,
   "id": "0aa42f94-b6be-44a6-a88a-4456d45f6dc2",
   "metadata": {},
   "outputs": [],
   "source": [
    "load_dotenv()"
   ]
  },
  {
   "cell_type": "code",
   "execution_count": null,
   "id": "5d0ddbd4-b51c-433d-b895-d5d0991fbcac",
   "metadata": {},
   "outputs": [],
   "source": [
    "# Utilizo la clave API que se me ha otorgado al registrarme en la web.\n",
    "api_key = 'xxxxx'\n",
    "url = \"https://api.balldontlie.io/v1/players\"\n",
    "\n",
    "### Incluyo los parametros que permiten la extracción de datos y la paginación.\n",
    "headers = {\"Authorization\": api_key}\n",
    "params = {\n",
    "    \"per_page\": 100,\n",
    "} # Le digo que me extraiga 100 jugadores por página que es el max en este caso.\n",
    "### Creo diccionario para almacenar todos los jugadores registrados e incluyo la variable cursor que determina la página inicial.\n",
    "cursor = None\n",
    "todos_los_jugadores = []\n",
    "\n",
    "while True:\n",
    "    # Añadimos el cursor a los parámetros si existe\n",
    "    if cursor:\n",
    "        params[\"cursor\"] = cursor\n",
    "    \n",
    "    # Realizar la solicitud GET sobre la API players\n",
    "    response = requests.get(url, headers=headers, params=params)\n",
    "\n",
    "    # Verifico el estado de la respuesta y si es igual a 200 procesa la request\n",
    "    if response.status_code == 200:\n",
    "        data = response.json()\n",
    "        jugadores = data[\"data\"]\n",
    "        \n",
    "        # Agrego los jugadores obtenidos a la lista\n",
    "        todos_los_jugadores.extend(jugadores)\n",
    "        \n",
    "        # Actualizo el cursor para que se mueva a la próxima página\n",
    "        cursor = data[\"meta\"].get(\"next_cursor\")\n",
    "        \n",
    "        # Rompe el bucle si no hay más páginas\n",
    "        if not cursor:\n",
    "            break\n",
    "        time.sleep(2)\n",
    "        # Incluyo un intervalo de 2 segundos por cada request ya que la API sólo permite 30 extracciones por minuto, de esta manera consigo extraer todos los jugadores posibles\n",
    "    else:\n",
    "        print(f\"Error: {response.status_code}\")\n",
    "        break\n",
    "        # Si surge algun error durante la extracción me devolverá un error y concluirá el bucle\n",
    "\n",
    "print(f\"Total de jugadores obtenidos: {len(todos_los_jugadores)}\")\n"
   ]
  },
  {
   "cell_type": "code",
   "execution_count": null,
   "id": "47b965ad-3ae1-46fe-aaa0-05cb95354e3f",
   "metadata": {},
   "outputs": [],
   "source": [
    "api_key = 'xxxxx'\n",
    "url = \"https://api.balldontlie.io/v1/teams\"\n",
    "\n",
    "headers = {\n",
    "    \"Authorization\": api_key\n",
    "}\n",
    "# En este caso no incluyo parámetros porque el total de equipos vienen en la primera página\n",
    "response = requests.get(url, headers=headers)\n",
    "\n",
    "if response.status_code == 200:\n",
    "    data1 = response.json()\n",
    "    equipos = data1[\"data\"]\n",
    "else:\n",
    "    print(f\"Error: {response.status_code}\")"
   ]
  },
  {
   "cell_type": "markdown",
   "id": "ba188a17-e1e8-4a99-8eb4-8cf8eb9cfad9",
   "metadata": {},
   "source": [
    "## **Conversion to data frames** ##"
   ]
  },
  {
   "cell_type": "code",
   "execution_count": null,
   "id": "cb54e549-7fdc-4e0e-98cc-c1ac36bcf2f4",
   "metadata": {},
   "outputs": [],
   "source": [
    "for jugador in todos_los_jugadores:\n",
    "    jugador['team'] = jugador['team']['id']\n",
    "# realizo un bucle para cambiar la key team por el id que viene dentro como un subdiccionario"
   ]
  },
  {
   "cell_type": "code",
   "execution_count": null,
   "id": "da7f233a-dfd9-4b39-ae90-c337f97f31b1",
   "metadata": {},
   "outputs": [],
   "source": [
    "todos_los_jugadores"
   ]
  },
  {
   "cell_type": "code",
   "execution_count": null,
   "id": "96aa3a84-4eb1-455a-9f48-d60df2e3ccbe",
   "metadata": {},
   "outputs": [],
   "source": [
    "df_jugadores = pd.DataFrame(todos_los_jugadores)"
   ]
  },
  {
   "cell_type": "code",
   "execution_count": null,
   "id": "b8569637-8a28-446c-b30c-39a26d53e34f",
   "metadata": {},
   "outputs": [],
   "source": [
    "df_jugadores"
   ]
  },
  {
   "cell_type": "code",
   "execution_count": null,
   "id": "1af594ad-7286-4d0b-90c3-2711046ec999",
   "metadata": {},
   "outputs": [],
   "source": [
    "equipos"
   ]
  },
  {
   "cell_type": "code",
   "execution_count": null,
   "id": "91d23bca-b591-46f7-abd4-2c92ab75cb12",
   "metadata": {},
   "outputs": [],
   "source": [
    "df_equipos = pd.DataFrame(equipos)"
   ]
  },
  {
   "cell_type": "code",
   "execution_count": null,
   "id": "52267cd7-2e0c-44ac-b384-d5551ee714cc",
   "metadata": {},
   "outputs": [],
   "source": [
    "df_equipos"
   ]
  },
  {
   "cell_type": "markdown",
   "id": "0829fd6f-a350-47fd-8602-d1323ac32c7e",
   "metadata": {},
   "source": [
    "## **Saving data frames** ##"
   ]
  },
  {
   "cell_type": "code",
   "execution_count": null,
   "id": "4503f241-c24b-4e85-a5ed-836e90449610",
   "metadata": {},
   "outputs": [],
   "source": [
    "df_jugadores.to_csv(\"api_players.csv\", index=False)"
   ]
  },
  {
   "cell_type": "code",
   "execution_count": null,
   "id": "3f9abe06-6426-490b-9255-103624d3e44c",
   "metadata": {},
   "outputs": [],
   "source": [
    "df_equipos.to_csv(\"api_teams.csv\", index=False)"
   ]
  }
 ],
 "metadata": {
  "kernelspec": {
   "display_name": "Python 3 (ipykernel)",
   "language": "python",
   "name": "python3"
  },
  "language_info": {
   "codemirror_mode": {
    "name": "ipython",
    "version": 3
   },
   "file_extension": ".py",
   "mimetype": "text/x-python",
   "name": "python",
   "nbconvert_exporter": "python",
   "pygments_lexer": "ipython3",
   "version": "3.12.4"
  }
 },
 "nbformat": 4,
 "nbformat_minor": 5
}
