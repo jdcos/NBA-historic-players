{
 "cells": [
  {
   "cell_type": "code",
   "execution_count": null,
   "id": "065c2c63-8894-4391-927d-50e4bc4439e7",
   "metadata": {},
   "outputs": [],
   "source": [
    "import pandas as pd\n",
    "import matplotlib.pyplot as plt\n",
    "import seaborn as sn\n",
    "from IPython.display import Image"
   ]
  },
  {
   "cell_type": "code",
   "execution_count": null,
   "id": "6e0f23af-5036-4bc4-a400-746f444cebc0",
   "metadata": {},
   "outputs": [],
   "source": [
    "df = pd.read_csv('players_analysis.csv')"
   ]
  },
  {
   "cell_type": "code",
   "execution_count": null,
   "id": "53d6dda2-c52d-41ce-a71f-3a63113504ae",
   "metadata": {},
   "outputs": [],
   "source": [
    "df"
   ]
  },
  {
   "cell_type": "markdown",
   "id": "3ecd5c2d-c98b-459b-a394-c4526cec823e",
   "metadata": {},
   "source": [
    "## **Data analysis** ##"
   ]
  },
  {
   "cell_type": "code",
   "execution_count": null,
   "id": "97523c10-f2f0-4bb6-afae-5c32b0e44fe2",
   "metadata": {},
   "outputs": [],
   "source": [
    "sn.barplot(x='position', y='weight', data=df)\n",
    "plt.show()"
   ]
  },
  {
   "cell_type": "code",
   "execution_count": null,
   "id": "3a3d02fe-b44f-41f4-b6eb-aed1b9460677",
   "metadata": {},
   "outputs": [],
   "source": [
    "# Medias de altura según conferencia y división\n",
    "df.groupby(['conference', 'division'])['height'].agg(['mean', 'median','min', 'max', 'size']).round(2)"
   ]
  },
  {
   "cell_type": "code",
   "execution_count": null,
   "id": "2f33b17d-075e-440b-b31b-a897cb9a17a8",
   "metadata": {},
   "outputs": [],
   "source": [
    "# Los últimos 25 nº2 cdel draft\n",
    "df_n2 = df[df[\"draft_number\"] == \"2\"]\n",
    "df_n2.sort_values(\"draft_year\", ascending=False).head(25)"
   ]
  },
  {
   "cell_type": "code",
   "execution_count": null,
   "id": "19f571e5-55cb-4186-b660-46d753265a9e",
   "metadata": {},
   "outputs": [],
   "source": [
    "df1 = df[df['country'] == 'Spain']\n",
    "df1"
   ]
  },
  {
   "cell_type": "code",
   "execution_count": null,
   "id": "56d52981-0920-4504-bec1-3fc52b19e50e",
   "metadata": {},
   "outputs": [],
   "source": [
    "spanish_players_nba = len(df1)\n",
    "print(f\"El número total de jugadores españoles NBA a lo largo de la historia es de {spanish_players_nba} exceptuando a Serge Ibaka quien está nacinalizado y no le han incluido\")"
   ]
  },
  {
   "cell_type": "code",
   "execution_count": null,
   "id": "240c7210-2114-48fe-8b15-d644ad02ddd0",
   "metadata": {},
   "outputs": [],
   "source": [
    "spanish_average_height = df1['height'].mean().round(2)\n",
    "print(f\"La altura media de los jugadores españoles NBA es de {spanish_average_height}m\")"
   ]
  },
  {
   "cell_type": "code",
   "execution_count": null,
   "id": "9ec33e4b-78f5-41b9-8c6a-b8c878fc4b7d",
   "metadata": {},
   "outputs": [],
   "source": [
    "spanish_average_weight = df1['weight'].mean().round(2)\n",
    "print(f\"El peso medio de los jugadores españoles NBA es de {spanish_average_weight}kg\")"
   ]
  },
  {
   "cell_type": "code",
   "execution_count": null,
   "id": "523f54a8-a7f4-4ac8-9303-07a3ee1523ab",
   "metadata": {},
   "outputs": [],
   "source": [
    "Image(filename=\"spanish_nba_players.jpg\")"
   ]
  }
 ],
 "metadata": {
  "kernelspec": {
   "display_name": "Python 3 (ipykernel)",
   "language": "python",
   "name": "python3"
  },
  "language_info": {
   "codemirror_mode": {
    "name": "ipython",
    "version": 3
   },
   "file_extension": ".py",
   "mimetype": "text/x-python",
   "name": "python",
   "nbconvert_exporter": "python",
   "pygments_lexer": "ipython3",
   "version": "3.12.4"
  }
 },
 "nbformat": 4,
 "nbformat_minor": 5
}
