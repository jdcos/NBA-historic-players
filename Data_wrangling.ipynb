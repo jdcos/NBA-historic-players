{
 "cells": [
  {
   "cell_type": "code",
   "execution_count": null,
   "id": "31efd701-e8c4-466c-8929-c7beb73c0a65",
   "metadata": {},
   "outputs": [],
   "source": [
    "import pandas as pd\n",
    "import numpy as np\n",
    "import matplotlib.pyplot as plt\n",
    "import seaborn as sn"
   ]
  },
  {
   "cell_type": "markdown",
   "id": "87e84d73-cd98-483b-aa17-004097dbfd46",
   "metadata": {},
   "source": [
    "## **Uploading data frames** ##"
   ]
  },
  {
   "cell_type": "code",
   "execution_count": null,
   "id": "5341c193-c6e6-42f1-9473-ce741599d90e",
   "metadata": {},
   "outputs": [],
   "source": [
    "df_jugadores = pd.read_csv(\"api_players.csv\")"
   ]
  },
  {
   "cell_type": "code",
   "execution_count": null,
   "id": "6babb73a-07e8-467b-8c4c-5807aceac81a",
   "metadata": {},
   "outputs": [],
   "source": [
    "df_jugadores"
   ]
  },
  {
   "cell_type": "code",
   "execution_count": null,
   "id": "60fee6fb-5cd0-4613-8fd7-f97e2cc5520c",
   "metadata": {},
   "outputs": [],
   "source": [
    "df_equipos = pd.read_csv(\"api_teams.csv\")"
   ]
  },
  {
   "cell_type": "code",
   "execution_count": null,
   "id": "5f8535de-771b-4cad-bb1b-45f2049f4154",
   "metadata": {},
   "outputs": [],
   "source": [
    "df_equipos"
   ]
  },
  {
   "cell_type": "markdown",
   "id": "ab0474c3-4020-4b00-91d3-1419f7cf8825",
   "metadata": {},
   "source": [
    "## **Cleaning and transformation** ##"
   ]
  },
  {
   "cell_type": "markdown",
   "id": "acc00006-7ef8-4b8e-ad4a-aa482209a1b1",
   "metadata": {},
   "source": [
    "### Renaming columns ###"
   ]
  },
  {
   "cell_type": "code",
   "execution_count": null,
   "id": "9dcf6cfd-0a59-4369-839c-58b13263583b",
   "metadata": {},
   "outputs": [],
   "source": [
    "df_jugadores = df_jugadores.rename(columns={'team':'id_team'})"
   ]
  },
  {
   "cell_type": "code",
   "execution_count": null,
   "id": "3816ab81-3a75-4957-9df9-d30bd798e7c7",
   "metadata": {},
   "outputs": [],
   "source": [
    "df_equipos = df_equipos.rename(columns={'id':'id_team', 'full_name':'team'})"
   ]
  },
  {
   "cell_type": "markdown",
   "id": "21bece3c-101f-42d9-bf97-0e6a98fa4e6e",
   "metadata": {},
   "source": [
    "### Merging data frames ###"
   ]
  },
  {
   "cell_type": "code",
   "execution_count": null,
   "id": "ba2ee103-a950-4bf2-898d-aa8249f28d2a",
   "metadata": {},
   "outputs": [],
   "source": [
    "df_jugadores_equipos = df_jugadores.merge(df_equipos, on='id_team', how='outer')"
   ]
  },
  {
   "cell_type": "code",
   "execution_count": null,
   "id": "5318008d-8558-4ecd-9bd7-f551a67d3372",
   "metadata": {},
   "outputs": [],
   "source": [
    "df_jugadores_equipos"
   ]
  },
  {
   "cell_type": "markdown",
   "id": "6dfe38a4-d840-4f50-a634-10df3eed9803",
   "metadata": {},
   "source": [
    "### Deleting NaNs ###"
   ]
  },
  {
   "cell_type": "code",
   "execution_count": null,
   "id": "38a1a6ee-7632-4e7b-b557-e506503509f1",
   "metadata": {},
   "outputs": [],
   "source": [
    "df_jugadores_equipos.dropna(subset=['city'], inplace=True)"
   ]
  },
  {
   "cell_type": "code",
   "execution_count": null,
   "id": "96a8b946-129a-4314-a6c4-c6cc73bc3530",
   "metadata": {},
   "outputs": [],
   "source": [
    "df_jugadores_equipos.dropna(subset=['country'], inplace=True)"
   ]
  },
  {
   "cell_type": "code",
   "execution_count": null,
   "id": "e022f21d-140e-463c-8dd1-564add367336",
   "metadata": {},
   "outputs": [],
   "source": [
    "df_jugadores_equipos.dropna(subset=['weight'], inplace=True)"
   ]
  },
  {
   "cell_type": "code",
   "execution_count": null,
   "id": "6b98b562-4851-466b-b9a8-da377f83c980",
   "metadata": {},
   "outputs": [],
   "source": [
    "df_jugadores_equipos"
   ]
  },
  {
   "cell_type": "markdown",
   "id": "fe0274b4-1b12-4b37-8c7d-c8b5b0e23802",
   "metadata": {},
   "source": [
    "### Droping columns ###"
   ]
  },
  {
   "cell_type": "code",
   "execution_count": null,
   "id": "e30df071-bca5-4c69-abcb-a72f2b276227",
   "metadata": {},
   "outputs": [],
   "source": [
    "df_jugadores_equipos = df_jugadores_equipos.drop(columns=['id', 'jersey_number', 'college', 'draft_round', 'city', 'name', 'abbreviation'])"
   ]
  },
  {
   "cell_type": "code",
   "execution_count": null,
   "id": "d4dc9455-e4be-467d-b917-b7bbcea5537a",
   "metadata": {},
   "outputs": [],
   "source": [
    "df_jugadores_equipos"
   ]
  },
  {
   "cell_type": "markdown",
   "id": "13240dd5-934d-47f9-b36c-085ebf3aa142",
   "metadata": {},
   "source": [
    "### Weight conversion ###"
   ]
  },
  {
   "cell_type": "code",
   "execution_count": null,
   "id": "a8ea8de4-6b26-42f0-9f83-cf7d8bb52524",
   "metadata": {},
   "outputs": [],
   "source": [
    "df_jugadores_equipos['weight'] = df_jugadores_equipos['weight'] * 0.45"
   ]
  },
  {
   "cell_type": "code",
   "execution_count": null,
   "id": "937e7435-8d74-4078-96aa-4ee7c2803156",
   "metadata": {},
   "outputs": [],
   "source": [
    "df_jugadores_equipos"
   ]
  },
  {
   "cell_type": "markdown",
   "id": "fdafd721-38df-4577-9fe6-cdcc45e1c451",
   "metadata": {},
   "source": [
    "### Df copy ###"
   ]
  },
  {
   "cell_type": "code",
   "execution_count": null,
   "id": "4d0f5672-591a-438f-98eb-8bbd3b8bced8",
   "metadata": {},
   "outputs": [],
   "source": [
    "df1 = df_jugadores_equipos.copy()"
   ]
  },
  {
   "cell_type": "markdown",
   "id": "31761723-e12d-4e31-8beb-e1d9aade2ca7",
   "metadata": {},
   "source": [
    "### Data replacement ###"
   ]
  },
  {
   "cell_type": "code",
   "execution_count": null,
   "id": "84e476f5-188e-4b7d-ab0d-8beffae12327",
   "metadata": {},
   "outputs": [],
   "source": [
    "df1['draft_number'] = df1['draft_number'].astype(str)"
   ]
  },
  {
   "cell_type": "code",
   "execution_count": null,
   "id": "2b9eb2f7-a183-42dc-b320-561d85569054",
   "metadata": {},
   "outputs": [],
   "source": [
    "df1['draft_year'] = df1['draft_year'].astype(str)"
   ]
  },
  {
   "cell_type": "code",
   "execution_count": null,
   "id": "8f23f17e-cdb1-48b5-a0d6-21fab9a54f3d",
   "metadata": {},
   "outputs": [],
   "source": [
    "df1['draft_number'].replace('', 'undrafted', inplace=True)"
   ]
  },
  {
   "cell_type": "code",
   "execution_count": null,
   "id": "7c4c5bf1-56e8-4007-9fb4-459d68d4132d",
   "metadata": {},
   "outputs": [],
   "source": [
    "df1['draft_number'].replace('nan', 'undrafted', inplace=True)"
   ]
  },
  {
   "cell_type": "code",
   "execution_count": null,
   "id": "914e886c-d784-4ea6-8ae1-af1453eb1061",
   "metadata": {},
   "outputs": [],
   "source": [
    "df1['draft_year'].replace('nan', 'undrafted', inplace=True)"
   ]
  },
  {
   "cell_type": "code",
   "execution_count": null,
   "id": "5d558f93-e11a-4f9e-a72e-f9a1370776e5",
   "metadata": {},
   "outputs": [],
   "source": [
    "df1['draft_number'] = df1['draft_number'].str.replace('.0', '', regex=True)"
   ]
  },
  {
   "cell_type": "code",
   "execution_count": null,
   "id": "38a6f8ae-36d1-4485-ae5b-410ab020900d",
   "metadata": {},
   "outputs": [],
   "source": [
    "df1['draft_year'] = df1['draft_year'].str.replace('.0', '')"
   ]
  },
  {
   "cell_type": "code",
   "execution_count": null,
   "id": "833a0ee5-d38f-4fc2-be81-121d22467b91",
   "metadata": {},
   "outputs": [],
   "source": [
    "df1['position'] = df1['position'].fillna('G-C')"
   ]
  },
  {
   "cell_type": "code",
   "execution_count": null,
   "id": "5b0271cc-dc63-466f-8916-2cb20b0258d0",
   "metadata": {},
   "outputs": [],
   "source": [
    "df1['position'].replace('F-G', 'G-F', inplace=True)"
   ]
  },
  {
   "cell_type": "code",
   "execution_count": null,
   "id": "a5ad0059-7ef8-47ed-9061-73c16279ff2a",
   "metadata": {},
   "outputs": [],
   "source": [
    "df1['position'].replace('C-F', 'F-C', inplace=True)"
   ]
  },
  {
   "cell_type": "code",
   "execution_count": null,
   "id": "1f6c6d5e-679b-440a-859f-103d850e9553",
   "metadata": {},
   "outputs": [],
   "source": [
    "df1"
   ]
  },
  {
   "cell_type": "markdown",
   "id": "eaafa27e-c79d-483a-9751-735c434af47e",
   "metadata": {},
   "source": [
    "### Height conversion ###"
   ]
  },
  {
   "cell_type": "code",
   "execution_count": null,
   "id": "93765162-fe6b-4e8b-b2c4-912de1b5e0eb",
   "metadata": {},
   "outputs": [],
   "source": [
    "df1[['feet', 'inches']] = df1['height'].str.split('-', expand=True)\n",
    "# Separo los pies y pulgadas en dos columnas diferentes para poder operar con cada medida\n",
    "\n",
    "df1['height'] = (df1['feet'].astype(int) * 30.48) + (df1['inches'].astype(int) * 2.54)\n",
    "# Convierto los valores a enteros y calculo la altura sumando los valores transferidos de pies y pulgadas"
   ]
  },
  {
   "cell_type": "code",
   "execution_count": null,
   "id": "a011a619-a7b9-4051-b13f-01f01590762a",
   "metadata": {},
   "outputs": [],
   "source": [
    "df1"
   ]
  },
  {
   "cell_type": "code",
   "execution_count": null,
   "id": "02820f98-099e-48b3-ab22-077bbab91afa",
   "metadata": {},
   "outputs": [],
   "source": [
    "# Elimino las columnas creadas y divvido por 100 para obtener la estatura en metros \n",
    "df1.drop(columns=['feet', 'inches'], inplace=True)\n",
    "df1['height'] = (df1['height'] / 100).round(2)"
   ]
  },
  {
   "cell_type": "code",
   "execution_count": null,
   "id": "8ae1f4b2-1150-4f35-8d8c-824210072eeb",
   "metadata": {},
   "outputs": [],
   "source": [
    "df1"
   ]
  },
  {
   "cell_type": "markdown",
   "id": "0d2217a5-becf-4e4a-b2e1-0c39d8129819",
   "metadata": {},
   "source": [
    "### Sorted df ###"
   ]
  },
  {
   "cell_type": "code",
   "execution_count": null,
   "id": "116578f6-77e2-4d74-b280-e3a566f521b9",
   "metadata": {},
   "outputs": [],
   "source": [
    "df1 = df1.sort_values('last_name').reset_index(drop=True)"
   ]
  },
  {
   "cell_type": "code",
   "execution_count": null,
   "id": "8c5e0e2a-7ac5-4166-84b8-3ccad3b92381",
   "metadata": {},
   "outputs": [],
   "source": [
    "df1"
   ]
  },
  {
   "cell_type": "code",
   "execution_count": null,
   "id": "9a04a151-1c7a-4dc3-8374-199b853f578f",
   "metadata": {},
   "outputs": [],
   "source": [
    "df1.to_csv(\"players_analysis.csv\", index=False)"
   ]
  }
 ],
 "metadata": {
  "kernelspec": {
   "display_name": "Python 3 (ipykernel)",
   "language": "python",
   "name": "python3"
  },
  "language_info": {
   "codemirror_mode": {
    "name": "ipython",
    "version": 3
   },
   "file_extension": ".py",
   "mimetype": "text/x-python",
   "name": "python",
   "nbconvert_exporter": "python",
   "pygments_lexer": "ipython3",
   "version": "3.12.4"
  }
 },
 "nbformat": 4,
 "nbformat_minor": 5
}
